{
  "nbformat": 4,
  "nbformat_minor": 0,
  "metadata": {
    "colab": {
      "provenance": [],
      "authorship_tag": "ABX9TyMunN4o7uZpXM2lmZIFcclB",
      "include_colab_link": true
    },
    "kernelspec": {
      "name": "python3",
      "display_name": "Python 3"
    },
    "language_info": {
      "name": "python"
    }
  },
  "cells": [
    {
      "cell_type": "markdown",
      "metadata": {
        "id": "view-in-github",
        "colab_type": "text"
      },
      "source": [
        "<a href=\"https://colab.research.google.com/github/sivareddy147/APPLIED-DATA-MODELLING-AND-DEEP-LEARNING-FOR-ENGINEERS/blob/main/CNN.ipynb\" target=\"_parent\"><img src=\"https://colab.research.google.com/assets/colab-badge.svg\" alt=\"Open In Colab\"/></a>"
      ]
    },
    {
      "cell_type": "code",
      "execution_count": 1,
      "metadata": {
        "colab": {
          "base_uri": "https://localhost:8080/"
        },
        "id": "Zu8uSlNudtK4",
        "outputId": "bd91012b-a1af-4df5-bf8a-58a0b6526b90"
      },
      "outputs": [
        {
          "output_type": "stream",
          "name": "stdout",
          "text": [
            "Downloading data from https://storage.googleapis.com/tensorflow/tf-keras-datasets/mnist.npz\n",
            "11490434/11490434 [==============================] - 0s 0us/step\n",
            "Epoch 1/10\n",
            "300/300 - 51s - loss: 0.3404 - accuracy: 0.8971 - 51s/epoch - 169ms/step\n",
            "Epoch 2/10\n",
            "300/300 - 46s - loss: 0.0985 - accuracy: 0.9706 - 46s/epoch - 152ms/step\n",
            "Epoch 3/10\n",
            "300/300 - 44s - loss: 0.0748 - accuracy: 0.9775 - 44s/epoch - 147ms/step\n",
            "Epoch 4/10\n",
            "300/300 - 47s - loss: 0.0607 - accuracy: 0.9818 - 47s/epoch - 156ms/step\n",
            "Epoch 5/10\n",
            "300/300 - 45s - loss: 0.0505 - accuracy: 0.9853 - 45s/epoch - 150ms/step\n",
            "Epoch 6/10\n",
            "300/300 - 45s - loss: 0.0446 - accuracy: 0.9866 - 45s/epoch - 151ms/step\n",
            "Epoch 7/10\n",
            "300/300 - 45s - loss: 0.0385 - accuracy: 0.9881 - 45s/epoch - 150ms/step\n",
            "Epoch 8/10\n",
            "300/300 - 47s - loss: 0.0341 - accuracy: 0.9895 - 47s/epoch - 156ms/step\n",
            "Epoch 9/10\n",
            "300/300 - 47s - loss: 0.0323 - accuracy: 0.9898 - 47s/epoch - 156ms/step\n",
            "Epoch 10/10\n",
            "300/300 - 44s - loss: 0.0285 - accuracy: 0.9909 - 44s/epoch - 148ms/step\n",
            "Test accuracy: 99.14%\n"
          ]
        }
      ],
      "source": [
        "#9 CNN\n",
        "import tensorflow as tf\n",
        "from tensorflow.keras.datasets import mnist\n",
        "from tensorflow.keras.models import Sequential\n",
        "from tensorflow.keras.layers import Conv2D, MaxPooling2D, Flatten, Dense, Dropout\n",
        "from tensorflow.keras.utils import to_categorical\n",
        "# Load and preprocess the dataset\n",
        "(x_train, y_train), (x_test, y_test) = mnist.load_data()\n",
        "x_train = x_train.reshape(x_train.shape[0], 28, 28, 1).astype('float32') / 255\n",
        "x_test = x_test.reshape(x_test.shape[0], 28, 28, 1).astype('float32') / 255\n",
        "y_train = to_categorical(y_train, 10)\n",
        "y_test = to_categorical(y_test, 10)\n",
        "# Build the CNN model\n",
        "model = Sequential()\n",
        "model.add(Conv2D(32, kernel_size=(3, 3), activation='relu', input_shape=(28, 28, 1)))\n",
        "model.add(MaxPooling2D(pool_size=(2, 2)))\n",
        "model.add(Conv2D(64, kernel_size=(3, 3), activation='relu'))\n",
        "model.add(MaxPooling2D(pool_size=(2, 2)))\n",
        "model.add(Flatten())\n",
        "model.add(Dense(128, activation='relu'))\n",
        "model.add(Dropout(0.5))\n",
        "model.add(Dense(10, activation='softmax'))\n",
        "model.compile(loss='categorical_crossentropy', optimizer='adam',metrics=['accuracy'])\n",
        "# Train the model\n",
        "model.fit(x_train, y_train, epochs=10,batch_size=200, verbose=2)\n",
        "# Evaluate the model\n",
        "test_loss, test_acc = model.evaluate(x_test, y_test, verbose=0)\n",
        "print(f'Test accuracy: {test_acc*100:.2f}%')"
      ]
    }
  ]
}