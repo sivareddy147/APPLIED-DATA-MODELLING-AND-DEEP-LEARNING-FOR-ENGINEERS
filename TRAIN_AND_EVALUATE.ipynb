{
  "nbformat": 4,
  "nbformat_minor": 0,
  "metadata": {
    "colab": {
      "provenance": [],
      "authorship_tag": "ABX9TyMJqL4Vo3Axjp9OW0uSCV8k",
      "include_colab_link": true
    },
    "kernelspec": {
      "name": "python3",
      "display_name": "Python 3"
    },
    "language_info": {
      "name": "python"
    }
  },
  "cells": [
    {
      "cell_type": "markdown",
      "metadata": {
        "id": "view-in-github",
        "colab_type": "text"
      },
      "source": [
        "<a href=\"https://colab.research.google.com/github/sivareddy147/APPLIED-DATA-MODELLING-AND-DEEP-LEARNING-FOR-ENGINEERS/blob/main/TRAIN_AND_EVALUATE.ipynb\" target=\"_parent\"><img src=\"https://colab.research.google.com/assets/colab-badge.svg\" alt=\"Open In Colab\"/></a>"
      ]
    },
    {
      "cell_type": "code",
      "execution_count": 2,
      "metadata": {
        "colab": {
          "base_uri": "https://localhost:8080/"
        },
        "id": "wNd0jExfWBAx",
        "outputId": "665673ca-3277-4b50-fede-ec16a1328700"
      },
      "outputs": [
        {
          "output_type": "stream",
          "name": "stdout",
          "text": [
            "Downloading data from https://storage.googleapis.com/tensorflow/tf-keras-datasets/mnist.npz\n",
            "11490434/11490434 [==============================] - 0s 0us/step\n",
            "Epoch 1/5\n",
            "1500/1500 [==============================] - 13s 8ms/step - loss: 0.2622 - accuracy: 0.9234 - val_loss: 0.1325 - val_accuracy: 0.9609\n",
            "Epoch 2/5\n",
            "1500/1500 [==============================] - 6s 4ms/step - loss: 0.1079 - accuracy: 0.9675 - val_loss: 0.1172 - val_accuracy: 0.9639\n",
            "Epoch 3/5\n",
            "1500/1500 [==============================] - 9s 6ms/step - loss: 0.0753 - accuracy: 0.9771 - val_loss: 0.0972 - val_accuracy: 0.9723\n",
            "Epoch 4/5\n",
            "1500/1500 [==============================] - 6s 4ms/step - loss: 0.0553 - accuracy: 0.9824 - val_loss: 0.1005 - val_accuracy: 0.9707\n",
            "Epoch 5/5\n",
            "1500/1500 [==============================] - 8s 6ms/step - loss: 0.0439 - accuracy: 0.9856 - val_loss: 0.0978 - val_accuracy: 0.9721\n",
            "313/313 [==============================] - 1s 2ms/step - loss: 0.0842 - accuracy: 0.9750\n",
            "Test accuracy: 0.9750\n"
          ]
        }
      ],
      "source": [
        "#1.B.TRAIN AND EVALUATE\n",
        "import tensorflow as tf\n",
        "from tensorflow.keras.datasets import mnist\n",
        "from tensorflow.keras.models import Sequential\n",
        "from tensorflow.keras.layers import Dense, Flatten\n",
        "from tensorflow.keras.utils import to_categorical\n",
        "\n",
        "# Load and preprocess the MNIST dataset\n",
        "(x_train, y_train), (x_test, y_test) = mnist.load_data()\n",
        "x_train, x_test = x_train / 255.0, x_test / 255.0\n",
        "y_train, y_test = to_categorical(y_train, 10), to_categorical(y_test, 10)\n",
        "model = Sequential([\n",
        "    Flatten(input_shape=(28, 28)),\n",
        "    Dense(128, activation='relu'),\n",
        "    Dense(64, activation='relu'),\n",
        "    Dense(10, activation='softmax')\n",
        "])\n",
        "model.compile(optimizer='adam',loss='categorical_crossentropy',metrics=['accuracy'])\n",
        "model.fit(x_train, y_train, epochs=5, batch_size=32, validation_split=0.2)\n",
        "test_loss, test_accuracy = model.evaluate(x_test, y_test)\n",
        "print(f\"Test accuracy: {test_accuracy:.4f}\")"
      ]
    }
  ]
}