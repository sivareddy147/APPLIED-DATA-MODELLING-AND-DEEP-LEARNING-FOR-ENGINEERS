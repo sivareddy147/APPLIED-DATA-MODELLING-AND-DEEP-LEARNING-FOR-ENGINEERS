{
  "nbformat": 4,
  "nbformat_minor": 0,
  "metadata": {
    "colab": {
      "provenance": [],
      "authorship_tag": "ABX9TyM5kBKkWoBk9rBNS0ClnZI2",
      "include_colab_link": true
    },
    "kernelspec": {
      "name": "python3",
      "display_name": "Python 3"
    },
    "language_info": {
      "name": "python"
    }
  },
  "cells": [
    {
      "cell_type": "markdown",
      "metadata": {
        "id": "view-in-github",
        "colab_type": "text"
      },
      "source": [
        "<a href=\"https://colab.research.google.com/github/sivareddy147/APPLIED-DATA-MODELLING-AND-DEEP-LEARNING-FOR-ENGINEERS/blob/main/RNN.ipynb\" target=\"_parent\"><img src=\"https://colab.research.google.com/assets/colab-badge.svg\" alt=\"Open In Colab\"/></a>"
      ]
    },
    {
      "cell_type": "code",
      "execution_count": 6,
      "metadata": {
        "colab": {
          "base_uri": "https://localhost:8080/"
        },
        "id": "wNd0jExfWBAx",
        "outputId": "e607af57-dcac-4e30-95ea-61afa7e322e3"
      },
      "outputs": [
        {
          "output_type": "stream",
          "name": "stdout",
          "text": [
            "Epoch 1/10\n",
            "4/4 [==============================] - 1s 7ms/step - loss: 1.6649\n",
            "Epoch 2/10\n",
            "4/4 [==============================] - 0s 6ms/step - loss: 1.4665\n",
            "Epoch 3/10\n",
            "4/4 [==============================] - 0s 6ms/step - loss: 1.3374\n",
            "Epoch 4/10\n",
            "4/4 [==============================] - 0s 7ms/step - loss: 1.2495\n",
            "Epoch 5/10\n",
            "4/4 [==============================] - 0s 7ms/step - loss: 1.1768\n",
            "Epoch 6/10\n",
            "4/4 [==============================] - 0s 6ms/step - loss: 1.1287\n",
            "Epoch 7/10\n",
            "4/4 [==============================] - 0s 6ms/step - loss: 1.0816\n",
            "Epoch 8/10\n",
            "4/4 [==============================] - 0s 7ms/step - loss: 1.0433\n",
            "Epoch 9/10\n",
            "4/4 [==============================] - 0s 7ms/step - loss: 1.0127\n",
            "Epoch 10/10\n",
            "4/4 [==============================] - 0s 6ms/step - loss: 0.9883\n",
            "1/1 [==============================] - 0s 222ms/step - loss: 0.4009\n"
          ]
        },
        {
          "output_type": "execute_result",
          "data": {
            "text/plain": [
              "0.4008715748786926"
            ]
          },
          "metadata": {},
          "execution_count": 6
        }
      ],
      "source": [
        "#5.RNN\n",
        "import numpy as np\n",
        "import tensorflow as tf\n",
        "from tensorflow import keras\n",
        "model = keras.Sequential([keras.layers.SimpleRNN(32, input_shape=(10,1)),keras.layers.Dense(1)])\n",
        "model.compile(optimizer='adam', loss='mse')\n",
        "X_train = np.random.randn(100, 10, 1)\n",
        "y_train = np.random.randn(100, 1)\n",
        "model.fit(X_train, y_train, epochs=10, batch_size=32)\n",
        "X_test = np.random.randn(10, 10, 1)\n",
        "y_test = np.random.randn(10, 1)\n",
        "model.evaluate(X_test, y_test)"
      ]
    }
  ]
}