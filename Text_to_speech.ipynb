{
  "nbformat": 4,
  "nbformat_minor": 0,
  "metadata": {
    "colab": {
      "provenance": [],
      "authorship_tag": "ABX9TyOloJxEjhhJLeEE5hK/qVgn",
      "include_colab_link": true
    },
    "kernelspec": {
      "name": "python3",
      "display_name": "Python 3"
    },
    "language_info": {
      "name": "python"
    }
  },
  "cells": [
    {
      "cell_type": "markdown",
      "metadata": {
        "id": "view-in-github",
        "colab_type": "text"
      },
      "source": [
        "<a href=\"https://colab.research.google.com/github/sivareddy147/APPLIED-DATA-MODELLING-AND-DEEP-LEARNING-FOR-ENGINEERS/blob/main/Text_to_speech.ipynb\" target=\"_parent\"><img src=\"https://colab.research.google.com/assets/colab-badge.svg\" alt=\"Open In Colab\"/></a>"
      ]
    },
    {
      "cell_type": "code",
      "execution_count": 5,
      "metadata": {
        "colab": {
          "base_uri": "https://localhost:8080/",
          "height": 197
        },
        "id": "Zu8uSlNudtK4",
        "outputId": "47fc9296-11a6-4251-e678-2eebc974bed1"
      },
      "outputs": [
        {
          "output_type": "stream",
          "name": "stdout",
          "text": [
            "Requirement already satisfied: gTTS in /usr/local/lib/python3.10/dist-packages (2.4.0)\n",
            "Requirement already satisfied: requests<3,>=2.27 in /usr/local/lib/python3.10/dist-packages (from gTTS) (2.31.0)\n",
            "Requirement already satisfied: click<8.2,>=7.1 in /usr/local/lib/python3.10/dist-packages (from gTTS) (8.1.7)\n",
            "Requirement already satisfied: charset-normalizer<4,>=2 in /usr/local/lib/python3.10/dist-packages (from requests<3,>=2.27->gTTS) (3.3.2)\n",
            "Requirement already satisfied: idna<4,>=2.5 in /usr/local/lib/python3.10/dist-packages (from requests<3,>=2.27->gTTS) (3.6)\n",
            "Requirement already satisfied: urllib3<3,>=1.21.1 in /usr/local/lib/python3.10/dist-packages (from requests<3,>=2.27->gTTS) (2.0.7)\n",
            "Requirement already satisfied: certifi>=2017.4.17 in /usr/local/lib/python3.10/dist-packages (from requests<3,>=2.27->gTTS) (2023.11.17)\n"
          ]
        },
        {
          "output_type": "execute_result",
          "data": {
            "text/plain": [
              "<IPython.lib.display.Audio object>"
            ],
            "text/html": [
              "\n",
              "                <audio  controls=\"controls\" >\n",
              "                    <source src=\"data:audio/x-wav;base64,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\" type=\"audio/x-wav\" />\n",
              "                    Your browser does not support the audio element.\n",
              "                </audio>\n",
              "              "
            ]
          },
          "metadata": {},
          "execution_count": 5
        }
      ],
      "source": [
        "#Text to speech\n",
        "!pip install gTTS\n",
        "from gtts import gTTS\n",
        "text_to_say=\"siva reddy\"\n",
        "language = 'en'\n",
        "gtts_object = gTTS(text = text_to_say, lang = language, slow = False)\n",
        "gtts_object.save(\"/content/gtts.wav\")\n",
        "from IPython.display import Audio\n",
        "Audio(\"/content/gtts.wav\")"
      ]
    }
  ]
}